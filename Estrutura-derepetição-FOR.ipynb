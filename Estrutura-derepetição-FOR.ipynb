{
 "cells": [
  {
   "cell_type": "code",
   "execution_count": 1,
   "metadata": {},
   "outputs": [
    {
     "name": "stdout",
     "output_type": "stream",
     "text": [
      "10\n",
      "9\n",
      "8\n",
      "7\n",
      "6\n",
      "5\n",
      "4\n",
      "3\n",
      "2\n",
      "1\n",
      "0\n",
      "BUM!\n"
     ]
    }
   ],
   "source": [
    "#Exe46\n",
    "from time import sleep\n",
    "for cont in range (10, -1, -1):\n",
    "    print(cont)\n",
    "    sleep(0.5)\n",
    "print('BUM!')"
   ]
  },
  {
   "cell_type": "code",
   "execution_count": 2,
   "metadata": {},
   "outputs": [
    {
     "name": "stdout",
     "output_type": "stream",
     "text": [
      "2 4 6 8 10 12 14 16 18 20 22 24 26 28 30 32 34 36 38 40 42 44 46 48 50 "
     ]
    }
   ],
   "source": [
    "#Exe47\n",
    "for cont in range(2, 51, 2):\n",
    "    print(cont, end=' ') "
   ]
  },
  {
   "cell_type": "code",
   "execution_count": 15,
   "metadata": {},
   "outputs": [
    {
     "name": "stdout",
     "output_type": "stream",
     "text": [
      "a soma de todos os 83 valores impares multiplos de tres é 20667\n"
     ]
    }
   ],
   "source": [
    "#Exe48\n",
    "soma = 0\n",
    "cont = 0\n",
    "for cout in range(1, 501, 2):\n",
    "    if cout % 3 == 0:\n",
    "        soma += cout # é a mesma coisa de: soma = soma + cout\n",
    "        cont += 1\n",
    "print(f'a soma de todos os {cont} valores impares multiplos de tres é {soma}')"
   ]
  },
  {
   "cell_type": "code",
   "execution_count": 2,
   "metadata": {},
   "outputs": [
    {
     "name": "stdout",
     "output_type": "stream",
     "text": [
      "2 x  1 = 2\n",
      "2 x  2 = 4\n",
      "2 x  3 = 6\n",
      "2 x  4 = 8\n",
      "2 x  5 = 10\n",
      "2 x  6 = 12\n",
      "2 x  7 = 14\n",
      "2 x  8 = 16\n",
      "2 x  9 = 18\n",
      "2 x 10 = 20\n"
     ]
    }
   ],
   "source": [
    "#Exe49 \n",
    "num = int(input('digite um numero para ver sua tabuada: '))\n",
    "for c in range(1, 11):\n",
    "    print(f'{num} x {c:2} = {num*c}')"
   ]
  },
  {
   "cell_type": "code",
   "execution_count": 2,
   "metadata": {},
   "outputs": [
    {
     "name": "stdout",
     "output_type": "stream",
     "text": [
      "1\n",
      "a soma de todos os valores pares é: 8 e a quantidade de numeros pares é 1\n"
     ]
    }
   ],
   "source": [
    "#Exe50\n",
    "soma = 0\n",
    "cont = 0\n",
    "for c in range(1, 7):\n",
    "    num = int(input(f'insira o {c} numero: '))\n",
    "    if num % 2 == 0:\n",
    "        soma += num\n",
    "        cont += 1\n",
    "print(num)\n",
    "print(f'a soma de todos os valores pares é: {soma} e a quantidade de numeros pares é {cont}')"
   ]
  },
  {
   "cell_type": "code",
   "execution_count": 3,
   "metadata": {},
   "outputs": [
    {
     "name": "stdout",
     "output_type": "stream",
     "text": [
      "==============================\n",
      "10 TERMOS DE UMA PA\n",
      "==============================\n",
      "9 - 12 - 15 - 18 - 21 - 24 - 27 - 30 - 33 - 36 - "
     ]
    }
   ],
   "source": [
    "#Exe51 \n",
    "print('=' * 30)\n",
    "print('10 TERMOS DE UMA PA')\n",
    "print('=' * 30)\n",
    "num = int(input('Primeiro termo: '))\n",
    "razao = int(input('razão: '))\n",
    "decimo = num + (10 - 1) * razao\n",
    "for c in range(num, decimo + razao, razao):\n",
    "    print(f'{c}', end=' - ')\n"
   ]
  },
  {
   "cell_type": "code",
   "execution_count": 6,
   "metadata": {},
   "outputs": [
    {
     "name": "stdout",
     "output_type": "stream",
     "text": [
      "\u001b[32m1 \u001b[31m2 \u001b[31m3 \u001b[31m4 \u001b[31m5 \u001b[31m6 \u001b[31m7 \u001b[31m8 \u001b[31m9 \u001b[31m10 \u001b[31m11 \u001b[31m12 \u001b[32m13 \n",
      "\u001b[0mo numero 13 foi divisivel 2 vezes\n",
      "o numero 13 é PRIMO\n"
     ]
    }
   ],
   "source": [
    "#Exe52\n",
    "cont = 0\n",
    "cor = {'vermelho':'\\033[31m', 'verde':'\\033[32m'} \n",
    "num = int(input('digite um numero: '))\n",
    "for c in range(1, num + 1):\n",
    "    if num % c == 0:\n",
    "      cont += 1\n",
    "      print(f'{cor[\"verde\"]}{c}', end=' ')\n",
    "    else:\n",
    "       print(f'{cor[\"vermelho\"]}{c}', end=' ')\n",
    "print(f'\\n\\033[0mo numero {num} foi divisivel {cont} vezes')\n",
    "if cont == 2:\n",
    "   print(f'o numero {num} é PRIMO')\n",
    "else:\n",
    "   print(f'{num} não é primo')\n"
   ]
  },
  {
   "cell_type": "code",
   "execution_count": 7,
   "metadata": {},
   "outputs": [
    {
     "name": "stdout",
     "output_type": "stream",
     "text": [
      "PALINDROMO\n",
      "o inverso de OLOBOAMAOBOLO é OLOBOAMAOBOLO\n"
     ]
    }
   ],
   "source": [
    "#Exe53 \n",
    "frase = str(input('Digite uma frase: ')).strip().upper()\n",
    "palavras = frase.split()\n",
    "junto =  ''.join(palavras)\n",
    "inverso = ''\n",
    "for letra in range(len(junto) -1, -1, -1):\n",
    "    inverso += junto[letra]\n",
    "if inverso == junto:\n",
    "    print('PALINDROMO')\n",
    "else:\n",
    "    print('nao é um palindromo')\n",
    "print(f'o inverso de {junto} é {inverso}')"
   ]
  },
  {
   "cell_type": "code",
   "execution_count": 8,
   "metadata": {},
   "outputs": [
    {
     "name": "stdout",
     "output_type": "stream",
     "text": [
      "exitem 3 pessoas menores de idade \n",
      "e 4 maiores de idade\n"
     ]
    }
   ],
   "source": [
    "#Exe54\n",
    "from datetime import datetime\n",
    "ano_atual = datetime.now().year\n",
    "cont1 = 0\n",
    "cont2 = 0\n",
    "for press in range(1,8):\n",
    "    nasc = int(input(f'em que ano nasceu a {press} pessoa? '))\n",
    "    idade = ano_atual - nasc\n",
    "    if idade < 18:\n",
    "        cont1 += 1\n",
    "    else:\n",
    "        cont2 += 1    \n",
    "print(f'exitem {cont1} pessoas menores de idade \\ne {cont2} maiores de idade')\n"
   ]
  },
  {
   "cell_type": "code",
   "execution_count": 9,
   "metadata": {},
   "outputs": [
    {
     "name": "stdout",
     "output_type": "stream",
     "text": [
      "o maior peso foi: 110.5 kg\n",
      "e o menor peso foi: 45.9 kg\n"
     ]
    }
   ],
   "source": [
    "#Exe55\n",
    "list = []\n",
    "for p in range(1,6):\n",
    "    peso = float(input(f'peso da {p} pessoa: '))\n",
    "    list+=[peso]\n",
    "print('o maior peso foi:', max(list),'kg')\n",
    "print('e o menor peso foi:', min(list),'kg')      "
   ]
  },
  {
   "cell_type": "code",
   "execution_count": null,
   "metadata": {},
   "outputs": [],
   "source": [
    "#Exe56\n",
    "cont_F = 0 \n",
    "list_idade = []\n",
    "list_max = []\n",
    "list_nome = []\n",
    "for p in range(1, 5):\n",
    "    print('-'*10, f'{p} PESSOA', '-'*10)\n",
    "    nome = str(input('nome: ')).strip()\n",
    "    idades = int(input('idade: '))\n",
    "    sexo = str(input('sexo [M/F]: ')).strip()\n",
    "#media de todas as idades\n",
    "    list_idade += [idades]\n",
    "    soma = sum(list_idade)\n",
    "    quant = len(list_idade)\n",
    "    media = soma / quant\n",
    "# o nome do homem mais velho e a idade\n",
    "    if sexo == 'M':\n",
    "        list_max = [idades]\n",
    "        maximo = max(list_max)\n",
    "        list_nome = [nome]\n",
    "        nome_velho = max(list_nome)\n",
    "#quantidade de mulheres com menos de 20 anos     \n",
    "    elif sexo == 'F' and idades < 20:\n",
    "        cont_F += 1\n",
    "\n",
    "print(f'a media das idades é {media} anos')\n",
    "print(f'o homem mais velho tem {maximo} anos e se chama {nome_velho}')\n",
    "print(f'ao todo sao {cont_F} mulheres com menos de 20 anos')"
   ]
  }
 ],
 "metadata": {
  "kernelspec": {
   "display_name": "Python 3",
   "language": "python",
   "name": "python3"
  },
  "language_info": {
   "codemirror_mode": {
    "name": "ipython",
    "version": 3
   },
   "file_extension": ".py",
   "mimetype": "text/x-python",
   "name": "python",
   "nbconvert_exporter": "python",
   "pygments_lexer": "ipython3",
   "version": "3.12.2"
  }
 },
 "nbformat": 4,
 "nbformat_minor": 2
}
